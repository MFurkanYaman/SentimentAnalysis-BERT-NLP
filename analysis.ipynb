{
  "nbformat": 4,
  "nbformat_minor": 0,
  "metadata": {
    "colab": {
      "provenance": [],
      "gpuType": "T4"
    },
    "kernelspec": {
      "name": "python3",
      "display_name": "Python 3"
    },
    "language_info": {
      "name": "python"
    },
    "accelerator": "GPU"
  },
  "cells": [
    {
      "cell_type": "markdown",
      "source": [
        "# **1. KURULUMLAR**"
      ],
      "metadata": {
        "id": "s8bF64lClSil"
      }
    },
    {
      "cell_type": "code",
      "execution_count": 1,
      "metadata": {
        "id": "g8ML2c0QgG2v"
      },
      "outputs": [],
      "source": [
        "import numpy as np\n",
        "import math\n",
        "import re\n",
        "import pandas as pd\n",
        "from bs4 import BeautifulSoup\n",
        "import random\n",
        "from google.colab import drive\n"
      ]
    },
    {
      "cell_type": "code",
      "source": [
        "!pip install bert-for-tf2\n",
        "!pip install sentencepiece"
      ],
      "metadata": {
        "colab": {
          "base_uri": "https://localhost:8080/"
        },
        "id": "VphtoPnwj7J_",
        "outputId": "a3184540-fa78-44eb-bda0-72dd7a01d4f2"
      },
      "execution_count": 2,
      "outputs": [
        {
          "output_type": "stream",
          "name": "stdout",
          "text": [
            "Collecting bert-for-tf2\n",
            "  Downloading bert-for-tf2-0.14.9.tar.gz (41 kB)\n",
            "\u001b[?25l     \u001b[90m━━━━━━━━━━━━━━━━━━━━━━━━━━━━━━━━━━━━━━━━\u001b[0m \u001b[32m0.0/41.2 kB\u001b[0m \u001b[31m?\u001b[0m eta \u001b[36m-:--:--\u001b[0m\r\u001b[2K     \u001b[90m━━━━━━━━━━━━━━━━━━━━━━━━━━━━━━━━━━━━━━━━\u001b[0m \u001b[32m41.2/41.2 kB\u001b[0m \u001b[31m1.3 MB/s\u001b[0m eta \u001b[36m0:00:00\u001b[0m\n",
            "\u001b[?25h  Preparing metadata (setup.py) ... \u001b[?25l\u001b[?25hdone\n",
            "Collecting py-params>=0.9.6 (from bert-for-tf2)\n",
            "  Downloading py-params-0.10.2.tar.gz (7.4 kB)\n",
            "  Preparing metadata (setup.py) ... \u001b[?25l\u001b[?25hdone\n",
            "Collecting params-flow>=0.8.0 (from bert-for-tf2)\n",
            "  Downloading params-flow-0.8.2.tar.gz (22 kB)\n",
            "  Preparing metadata (setup.py) ... \u001b[?25l\u001b[?25hdone\n",
            "Requirement already satisfied: numpy in /usr/local/lib/python3.10/dist-packages (from params-flow>=0.8.0->bert-for-tf2) (1.25.2)\n",
            "Requirement already satisfied: tqdm in /usr/local/lib/python3.10/dist-packages (from params-flow>=0.8.0->bert-for-tf2) (4.66.4)\n",
            "Building wheels for collected packages: bert-for-tf2, params-flow, py-params\n",
            "  Building wheel for bert-for-tf2 (setup.py) ... \u001b[?25l\u001b[?25hdone\n",
            "  Created wheel for bert-for-tf2: filename=bert_for_tf2-0.14.9-py3-none-any.whl size=30510 sha256=5f17f6a761f57a4d11c830d60cc383e1ed09daa2531aacc3463a6162d8b428f7\n",
            "  Stored in directory: /root/.cache/pip/wheels/d8/da/50/126d7b8416d9a0e6bf876935c2219a71e72a6529c25e150c56\n",
            "  Building wheel for params-flow (setup.py) ... \u001b[?25l\u001b[?25hdone\n",
            "  Created wheel for params-flow: filename=params_flow-0.8.2-py3-none-any.whl size=19455 sha256=f247b4e227c97eb72b7881bb0ecfb0e8eb2123d5f5f594d743f132a410516513\n",
            "  Stored in directory: /root/.cache/pip/wheels/97/a8/d0/f7419404174976a2686bb98b5c30df01cc71445415f32db9e6\n",
            "  Building wheel for py-params (setup.py) ... \u001b[?25l\u001b[?25hdone\n",
            "  Created wheel for py-params: filename=py_params-0.10.2-py3-none-any.whl size=7891 sha256=2529dbf6eb8885e38453cbec338f5f295d7bb36b115a4424036ff4a330d9084a\n",
            "  Stored in directory: /root/.cache/pip/wheels/69/c8/b3/92666cff9fb312bc3473eaa6b396695b89a7b3e31e90876819\n",
            "Successfully built bert-for-tf2 params-flow py-params\n",
            "Installing collected packages: py-params, params-flow, bert-for-tf2\n",
            "Successfully installed bert-for-tf2-0.14.9 params-flow-0.8.2 py-params-0.10.2\n",
            "Requirement already satisfied: sentencepiece in /usr/local/lib/python3.10/dist-packages (0.1.99)\n"
          ]
        }
      ]
    },
    {
      "cell_type": "code",
      "source": [
        "try:\n",
        "  %tensorflow_version 2.x\n",
        "except Exception:\n",
        "  pass\n",
        "\n",
        "import tensorflow as tf\n",
        "\n",
        "import tensorflow_hub as hub\n",
        "\n",
        "from tensorflow.keras import layers\n",
        "\n",
        "import bert"
      ],
      "metadata": {
        "colab": {
          "base_uri": "https://localhost:8080/"
        },
        "id": "VtwVvHJFkQsB",
        "outputId": "5d34d133-185f-4be4-e59c-a9c22bdbfb04"
      },
      "execution_count": 3,
      "outputs": [
        {
          "output_type": "stream",
          "name": "stdout",
          "text": [
            "Colab only includes TensorFlow 2.x; %tensorflow_version has no effect.\n"
          ]
        }
      ]
    },
    {
      "cell_type": "markdown",
      "source": [
        "# **2. Data Preprocessing**"
      ],
      "metadata": {
        "id": "8lSHI67NlbZV"
      }
    },
    {
      "cell_type": "markdown",
      "source": [
        "## **Dosya Yükleme**\n"
      ],
      "metadata": {
        "id": "ju2dp3G2ll3N"
      }
    },
    {
      "cell_type": "code",
      "source": [
        "\n",
        "drive.mount(\"/content/drive\")"
      ],
      "metadata": {
        "colab": {
          "base_uri": "https://localhost:8080/"
        },
        "id": "CqzsHohhlxB5",
        "outputId": "e7d8e775-8255-42db-b02f-e01e30d0b346"
      },
      "execution_count": 4,
      "outputs": [
        {
          "output_type": "stream",
          "name": "stdout",
          "text": [
            "Mounted at /content/drive\n"
          ]
        }
      ]
    },
    {
      "cell_type": "code",
      "source": [
        "cols=[\"sentiment\",\"id\",\"date\",\"query\",\"user\",\"text\"]\n",
        "data=pd.read_csv(\"/content/drive/MyDrive/BERT/train.csv\",\n",
        "                 header=None,\n",
        "                 names=cols,\n",
        "                 engine=\"python\",\n",
        "                 encoding=\"latin1\")"
      ],
      "metadata": {
        "id": "E2zlSXiPmAFH"
      },
      "execution_count": 6,
      "outputs": []
    },
    {
      "cell_type": "code",
      "source": [
        "data.drop([\"id\",\"date\",\"query\",\"user\"],axis=1,inplace=True)"
      ],
      "metadata": {
        "id": "cQLTzqzHnqr8"
      },
      "execution_count": 7,
      "outputs": []
    },
    {
      "cell_type": "code",
      "source": [
        "data.head(5)"
      ],
      "metadata": {
        "colab": {
          "base_uri": "https://localhost:8080/",
          "height": 206
        },
        "id": "rxLvKgGhoKEb",
        "outputId": "91fe3f4c-83cb-44f4-c027-9e63edfacc02"
      },
      "execution_count": 8,
      "outputs": [
        {
          "output_type": "execute_result",
          "data": {
            "text/plain": [
              "   sentiment                                               text\n",
              "0          0  @switchfoot http://twitpic.com/2y1zl - Awww, t...\n",
              "1          0  is upset that he can't update his Facebook by ...\n",
              "2          0  @Kenichan I dived many times for the ball. Man...\n",
              "3          0    my whole body feels itchy and like its on fire \n",
              "4          0  @nationwideclass no, it's not behaving at all...."
            ],
            "text/html": [
              "\n",
              "  <div id=\"df-fe4bae84-56b8-4a85-a5e6-5dd718db4eec\" class=\"colab-df-container\">\n",
              "    <div>\n",
              "<style scoped>\n",
              "    .dataframe tbody tr th:only-of-type {\n",
              "        vertical-align: middle;\n",
              "    }\n",
              "\n",
              "    .dataframe tbody tr th {\n",
              "        vertical-align: top;\n",
              "    }\n",
              "\n",
              "    .dataframe thead th {\n",
              "        text-align: right;\n",
              "    }\n",
              "</style>\n",
              "<table border=\"1\" class=\"dataframe\">\n",
              "  <thead>\n",
              "    <tr style=\"text-align: right;\">\n",
              "      <th></th>\n",
              "      <th>sentiment</th>\n",
              "      <th>text</th>\n",
              "    </tr>\n",
              "  </thead>\n",
              "  <tbody>\n",
              "    <tr>\n",
              "      <th>0</th>\n",
              "      <td>0</td>\n",
              "      <td>@switchfoot http://twitpic.com/2y1zl - Awww, t...</td>\n",
              "    </tr>\n",
              "    <tr>\n",
              "      <th>1</th>\n",
              "      <td>0</td>\n",
              "      <td>is upset that he can't update his Facebook by ...</td>\n",
              "    </tr>\n",
              "    <tr>\n",
              "      <th>2</th>\n",
              "      <td>0</td>\n",
              "      <td>@Kenichan I dived many times for the ball. Man...</td>\n",
              "    </tr>\n",
              "    <tr>\n",
              "      <th>3</th>\n",
              "      <td>0</td>\n",
              "      <td>my whole body feels itchy and like its on fire</td>\n",
              "    </tr>\n",
              "    <tr>\n",
              "      <th>4</th>\n",
              "      <td>0</td>\n",
              "      <td>@nationwideclass no, it's not behaving at all....</td>\n",
              "    </tr>\n",
              "  </tbody>\n",
              "</table>\n",
              "</div>\n",
              "    <div class=\"colab-df-buttons\">\n",
              "\n",
              "  <div class=\"colab-df-container\">\n",
              "    <button class=\"colab-df-convert\" onclick=\"convertToInteractive('df-fe4bae84-56b8-4a85-a5e6-5dd718db4eec')\"\n",
              "            title=\"Convert this dataframe to an interactive table.\"\n",
              "            style=\"display:none;\">\n",
              "\n",
              "  <svg xmlns=\"http://www.w3.org/2000/svg\" height=\"24px\" viewBox=\"0 -960 960 960\">\n",
              "    <path d=\"M120-120v-720h720v720H120Zm60-500h600v-160H180v160Zm220 220h160v-160H400v160Zm0 220h160v-160H400v160ZM180-400h160v-160H180v160Zm440 0h160v-160H620v160ZM180-180h160v-160H180v160Zm440 0h160v-160H620v160Z\"/>\n",
              "  </svg>\n",
              "    </button>\n",
              "\n",
              "  <style>\n",
              "    .colab-df-container {\n",
              "      display:flex;\n",
              "      gap: 12px;\n",
              "    }\n",
              "\n",
              "    .colab-df-convert {\n",
              "      background-color: #E8F0FE;\n",
              "      border: none;\n",
              "      border-radius: 50%;\n",
              "      cursor: pointer;\n",
              "      display: none;\n",
              "      fill: #1967D2;\n",
              "      height: 32px;\n",
              "      padding: 0 0 0 0;\n",
              "      width: 32px;\n",
              "    }\n",
              "\n",
              "    .colab-df-convert:hover {\n",
              "      background-color: #E2EBFA;\n",
              "      box-shadow: 0px 1px 2px rgba(60, 64, 67, 0.3), 0px 1px 3px 1px rgba(60, 64, 67, 0.15);\n",
              "      fill: #174EA6;\n",
              "    }\n",
              "\n",
              "    .colab-df-buttons div {\n",
              "      margin-bottom: 4px;\n",
              "    }\n",
              "\n",
              "    [theme=dark] .colab-df-convert {\n",
              "      background-color: #3B4455;\n",
              "      fill: #D2E3FC;\n",
              "    }\n",
              "\n",
              "    [theme=dark] .colab-df-convert:hover {\n",
              "      background-color: #434B5C;\n",
              "      box-shadow: 0px 1px 3px 1px rgba(0, 0, 0, 0.15);\n",
              "      filter: drop-shadow(0px 1px 2px rgba(0, 0, 0, 0.3));\n",
              "      fill: #FFFFFF;\n",
              "    }\n",
              "  </style>\n",
              "\n",
              "    <script>\n",
              "      const buttonEl =\n",
              "        document.querySelector('#df-fe4bae84-56b8-4a85-a5e6-5dd718db4eec button.colab-df-convert');\n",
              "      buttonEl.style.display =\n",
              "        google.colab.kernel.accessAllowed ? 'block' : 'none';\n",
              "\n",
              "      async function convertToInteractive(key) {\n",
              "        const element = document.querySelector('#df-fe4bae84-56b8-4a85-a5e6-5dd718db4eec');\n",
              "        const dataTable =\n",
              "          await google.colab.kernel.invokeFunction('convertToInteractive',\n",
              "                                                    [key], {});\n",
              "        if (!dataTable) return;\n",
              "\n",
              "        const docLinkHtml = 'Like what you see? Visit the ' +\n",
              "          '<a target=\"_blank\" href=https://colab.research.google.com/notebooks/data_table.ipynb>data table notebook</a>'\n",
              "          + ' to learn more about interactive tables.';\n",
              "        element.innerHTML = '';\n",
              "        dataTable['output_type'] = 'display_data';\n",
              "        await google.colab.output.renderOutput(dataTable, element);\n",
              "        const docLink = document.createElement('div');\n",
              "        docLink.innerHTML = docLinkHtml;\n",
              "        element.appendChild(docLink);\n",
              "      }\n",
              "    </script>\n",
              "  </div>\n",
              "\n",
              "\n",
              "<div id=\"df-f9619b4d-2f52-4c93-8d32-130f56b64a03\">\n",
              "  <button class=\"colab-df-quickchart\" onclick=\"quickchart('df-f9619b4d-2f52-4c93-8d32-130f56b64a03')\"\n",
              "            title=\"Suggest charts\"\n",
              "            style=\"display:none;\">\n",
              "\n",
              "<svg xmlns=\"http://www.w3.org/2000/svg\" height=\"24px\"viewBox=\"0 0 24 24\"\n",
              "     width=\"24px\">\n",
              "    <g>\n",
              "        <path d=\"M19 3H5c-1.1 0-2 .9-2 2v14c0 1.1.9 2 2 2h14c1.1 0 2-.9 2-2V5c0-1.1-.9-2-2-2zM9 17H7v-7h2v7zm4 0h-2V7h2v10zm4 0h-2v-4h2v4z\"/>\n",
              "    </g>\n",
              "</svg>\n",
              "  </button>\n",
              "\n",
              "<style>\n",
              "  .colab-df-quickchart {\n",
              "      --bg-color: #E8F0FE;\n",
              "      --fill-color: #1967D2;\n",
              "      --hover-bg-color: #E2EBFA;\n",
              "      --hover-fill-color: #174EA6;\n",
              "      --disabled-fill-color: #AAA;\n",
              "      --disabled-bg-color: #DDD;\n",
              "  }\n",
              "\n",
              "  [theme=dark] .colab-df-quickchart {\n",
              "      --bg-color: #3B4455;\n",
              "      --fill-color: #D2E3FC;\n",
              "      --hover-bg-color: #434B5C;\n",
              "      --hover-fill-color: #FFFFFF;\n",
              "      --disabled-bg-color: #3B4455;\n",
              "      --disabled-fill-color: #666;\n",
              "  }\n",
              "\n",
              "  .colab-df-quickchart {\n",
              "    background-color: var(--bg-color);\n",
              "    border: none;\n",
              "    border-radius: 50%;\n",
              "    cursor: pointer;\n",
              "    display: none;\n",
              "    fill: var(--fill-color);\n",
              "    height: 32px;\n",
              "    padding: 0;\n",
              "    width: 32px;\n",
              "  }\n",
              "\n",
              "  .colab-df-quickchart:hover {\n",
              "    background-color: var(--hover-bg-color);\n",
              "    box-shadow: 0 1px 2px rgba(60, 64, 67, 0.3), 0 1px 3px 1px rgba(60, 64, 67, 0.15);\n",
              "    fill: var(--button-hover-fill-color);\n",
              "  }\n",
              "\n",
              "  .colab-df-quickchart-complete:disabled,\n",
              "  .colab-df-quickchart-complete:disabled:hover {\n",
              "    background-color: var(--disabled-bg-color);\n",
              "    fill: var(--disabled-fill-color);\n",
              "    box-shadow: none;\n",
              "  }\n",
              "\n",
              "  .colab-df-spinner {\n",
              "    border: 2px solid var(--fill-color);\n",
              "    border-color: transparent;\n",
              "    border-bottom-color: var(--fill-color);\n",
              "    animation:\n",
              "      spin 1s steps(1) infinite;\n",
              "  }\n",
              "\n",
              "  @keyframes spin {\n",
              "    0% {\n",
              "      border-color: transparent;\n",
              "      border-bottom-color: var(--fill-color);\n",
              "      border-left-color: var(--fill-color);\n",
              "    }\n",
              "    20% {\n",
              "      border-color: transparent;\n",
              "      border-left-color: var(--fill-color);\n",
              "      border-top-color: var(--fill-color);\n",
              "    }\n",
              "    30% {\n",
              "      border-color: transparent;\n",
              "      border-left-color: var(--fill-color);\n",
              "      border-top-color: var(--fill-color);\n",
              "      border-right-color: var(--fill-color);\n",
              "    }\n",
              "    40% {\n",
              "      border-color: transparent;\n",
              "      border-right-color: var(--fill-color);\n",
              "      border-top-color: var(--fill-color);\n",
              "    }\n",
              "    60% {\n",
              "      border-color: transparent;\n",
              "      border-right-color: var(--fill-color);\n",
              "    }\n",
              "    80% {\n",
              "      border-color: transparent;\n",
              "      border-right-color: var(--fill-color);\n",
              "      border-bottom-color: var(--fill-color);\n",
              "    }\n",
              "    90% {\n",
              "      border-color: transparent;\n",
              "      border-bottom-color: var(--fill-color);\n",
              "    }\n",
              "  }\n",
              "</style>\n",
              "\n",
              "  <script>\n",
              "    async function quickchart(key) {\n",
              "      const quickchartButtonEl =\n",
              "        document.querySelector('#' + key + ' button');\n",
              "      quickchartButtonEl.disabled = true;  // To prevent multiple clicks.\n",
              "      quickchartButtonEl.classList.add('colab-df-spinner');\n",
              "      try {\n",
              "        const charts = await google.colab.kernel.invokeFunction(\n",
              "            'suggestCharts', [key], {});\n",
              "      } catch (error) {\n",
              "        console.error('Error during call to suggestCharts:', error);\n",
              "      }\n",
              "      quickchartButtonEl.classList.remove('colab-df-spinner');\n",
              "      quickchartButtonEl.classList.add('colab-df-quickchart-complete');\n",
              "    }\n",
              "    (() => {\n",
              "      let quickchartButtonEl =\n",
              "        document.querySelector('#df-f9619b4d-2f52-4c93-8d32-130f56b64a03 button');\n",
              "      quickchartButtonEl.style.display =\n",
              "        google.colab.kernel.accessAllowed ? 'block' : 'none';\n",
              "    })();\n",
              "  </script>\n",
              "</div>\n",
              "\n",
              "    </div>\n",
              "  </div>\n"
            ],
            "application/vnd.google.colaboratory.intrinsic+json": {
              "type": "dataframe",
              "variable_name": "data"
            }
          },
          "metadata": {},
          "execution_count": 8
        }
      ]
    },
    {
      "cell_type": "markdown",
      "source": [
        "## **Data Temizleme**"
      ],
      "metadata": {
        "id": "aTIUegsZp3bF"
      }
    },
    {
      "cell_type": "code",
      "source": [
        "def clean_tweet(tweet):\n",
        "  tweet= BeautifulSoup(tweet,\"lxml\").get_text()\n",
        "  tweet= re.sub(r\"@[A-Za-z-0-9]+\",\" \",tweet)\n",
        "  tweet= re.sub(r\"https?://+[A-Za-z-0-9./]+\",\" \",tweet)\n",
        "  tweet= re.sub(r\"[^a-zA-Z.!?']+\",\" \",tweet)\n",
        "  tweet= re.sub(r\" +\",\" \",tweet)\n",
        "  return tweet\n"
      ],
      "metadata": {
        "id": "0Kv8R14PoMk_"
      },
      "execution_count": 9,
      "outputs": []
    },
    {
      "cell_type": "code",
      "source": [
        "data_clean= [clean_tweet(tweet) for tweet in data.text]"
      ],
      "metadata": {
        "colab": {
          "base_uri": "https://localhost:8080/"
        },
        "id": "8XXBN3kLrP0A",
        "outputId": "479d5237-4daf-4d91-eeac-7fea7e82aec8"
      },
      "execution_count": 10,
      "outputs": [
        {
          "output_type": "stream",
          "name": "stderr",
          "text": [
            "<ipython-input-9-9854aae3979a>:2: MarkupResemblesLocatorWarning: The input looks more like a filename than markup. You may want to open this file and pass the filehandle into Beautiful Soup.\n",
            "  tweet= BeautifulSoup(tweet,\"lxml\").get_text()\n"
          ]
        }
      ]
    },
    {
      "cell_type": "code",
      "source": [
        "data_labels=data.sentiment.values\n",
        "data_labels[data_labels==4]=1"
      ],
      "metadata": {
        "id": "b-RhSlrBtzbK"
      },
      "execution_count": 11,
      "outputs": []
    },
    {
      "cell_type": "markdown",
      "source": [
        "## **Tokenization**"
      ],
      "metadata": {
        "id": "YXDZ7KJ0wC02"
      }
    },
    {
      "cell_type": "code",
      "source": [
        "FullTokenizer=bert.bert_tokenization.FullTokenizer\n",
        "bert_layer=hub.KerasLayer(\"https://tfhub.dev/tensorflow/bert_en_uncased_L-12_H-768_A-12/1\",trainable=False)\n",
        "\n",
        "vocab_file=bert_layer.resolved_object.vocab_file.asset_path.numpy() #tokenizer için kelime dosyasına erişim sağlıyor?\n",
        "do_lower_case=bert_layer.resolved_object.do_lower_case.numpy() #case sensitive mi?\n",
        "tokenizer=FullTokenizer(vocab_file,do_lower_case)\n"
      ],
      "metadata": {
        "id": "6vAMrSBrvlT1"
      },
      "execution_count": 12,
      "outputs": []
    },
    {
      "cell_type": "code",
      "source": [
        "tokenizer.tokenize(\"My dog love strawberries.\")"
      ],
      "metadata": {
        "colab": {
          "base_uri": "https://localhost:8080/"
        },
        "id": "vOG9P2f9yTsf",
        "outputId": "3e5e42ba-9946-421f-bf57-69f159ba4b4c"
      },
      "execution_count": 13,
      "outputs": [
        {
          "output_type": "execute_result",
          "data": {
            "text/plain": [
              "['my', 'dog', 'love', 'straw', '##berries', '.']"
            ]
          },
          "metadata": {},
          "execution_count": 13
        }
      ]
    },
    {
      "cell_type": "code",
      "source": [
        "tokenizer.convert_tokens_to_ids(tokenizer.tokenize(\"My dog love strawberries.\"))"
      ],
      "metadata": {
        "colab": {
          "base_uri": "https://localhost:8080/"
        },
        "id": "iIYAd_h3y5fF",
        "outputId": "565d5bd1-1d01-412b-e0e9-cf2eae4689e7"
      },
      "execution_count": 14,
      "outputs": [
        {
          "output_type": "execute_result",
          "data": {
            "text/plain": [
              "[2026, 3899, 2293, 13137, 20968, 1012]"
            ]
          },
          "metadata": {},
          "execution_count": 14
        }
      ]
    },
    {
      "cell_type": "code",
      "source": [
        "def encode_sentence(sent):\n",
        "  return tokenizer.convert_tokens_to_ids(tokenizer.tokenize(sent))"
      ],
      "metadata": {
        "id": "m0MpAFInzKzP"
      },
      "execution_count": 15,
      "outputs": []
    },
    {
      "cell_type": "code",
      "source": [
        "data_input=[encode_sentence(sentence) for sentence in data_clean]"
      ],
      "metadata": {
        "id": "k2E5VZV2zWBA"
      },
      "execution_count": 16,
      "outputs": []
    },
    {
      "cell_type": "code",
      "source": [
        "print(data_input[0])"
      ],
      "metadata": {
        "colab": {
          "base_uri": "https://localhost:8080/"
        },
        "id": "tevpkVSNNeuW",
        "outputId": "610864b8-db6e-44a6-b6e0-7ec26af81e46"
      },
      "execution_count": 17,
      "outputs": [
        {
          "output_type": "stream",
          "name": "stdout",
          "text": [
            "[22091, 2860, 2860, 2008, 1005, 1055, 1037, 26352, 5017, 1012, 2017, 2323, 2050, 2288, 2585, 12385, 1997, 2353, 2154, 2000, 2079, 2009, 1012, 1040]\n"
          ]
        }
      ]
    },
    {
      "cell_type": "markdown",
      "source": [
        "## **Dataset Oluşturma**"
      ],
      "metadata": {
        "id": "OA6ZkbjtLm7_"
      }
    },
    {
      "cell_type": "code",
      "source": [
        "data_with_len = []  # Boş bir liste oluşturuyoruz\n",
        "\n",
        "# `data_inputs` listesi üzerinde döngü\n",
        "for i, sent in enumerate(data_input):\n",
        "    # Her bir cümle için, cümleyi, etiketini ve uzunluğunu içeren listeyi oluştur\n",
        "    item = [sent, data_labels[i], len(sent)]\n",
        "\n",
        "    # Oluşturulan listeyi `data_with_len` listesine ekle\n",
        "    data_with_len.append(item)\n",
        "\n",
        "random.shuffle(data_with_len)\n",
        "data_with_len.sort(key=lambda x: x[2])\n",
        "\n",
        "sorted_all = []  # Boş bir liste oluşturuyoruz\n",
        "\n",
        "# `data_with_len` listesi üzerinde döngü\n",
        "for sent_lab in data_with_len:\n",
        "    # Eğer uzunluk 7'den büyükse, belirli formatta liste oluştur\n",
        "    if sent_lab[2] > 7:\n",
        "        # İki elemanlı tuple oluştur ve `sorted_all` listesine ekle\n",
        "        item = (sent_lab[0], sent_lab[1])\n",
        "        sorted_all.append(item)"
      ],
      "metadata": {
        "id": "s47IFgpAKJNS"
      },
      "execution_count": 18,
      "outputs": []
    },
    {
      "cell_type": "markdown",
      "source": [
        "TensorFlow'da bir veri kümesi (tf.data.Dataset) oluşturmak için kullanılır. Bu veri kümesi, sorted_all adlı bir listeyi TensorFlow veri formatına dönüştürür."
      ],
      "metadata": {
        "id": "sT3QZ25cXOU0"
      }
    },
    {
      "cell_type": "code",
      "source": [
        "all_dataset=tf.data.Dataset.from_generator(lambda: sorted_all,output_types=(tf.int32,tf.int32))"
      ],
      "metadata": {
        "id": "vV2jkWdPNkKy"
      },
      "execution_count": 19,
      "outputs": []
    },
    {
      "cell_type": "code",
      "source": [
        "next(iter(all_dataset))"
      ],
      "metadata": {
        "colab": {
          "base_uri": "https://localhost:8080/"
        },
        "id": "vjoGfoLiYJMo",
        "outputId": "c53d78a6-2caa-4bfc-fa0c-99e30f03995e"
      },
      "execution_count": 20,
      "outputs": [
        {
          "output_type": "execute_result",
          "data": {
            "text/plain": [
              "(<tf.Tensor: shape=(8,), dtype=int32, numpy=array([4283, 4658, 2666, 2611, 1012, 1012, 8840, 2140], dtype=int32)>,\n",
              " <tf.Tensor: shape=(), dtype=int32, numpy=1>)"
            ]
          },
          "metadata": {},
          "execution_count": 20
        }
      ]
    },
    {
      "cell_type": "markdown",
      "source": [
        "**all_dataset:** Bu, önceki adımlarda oluşturduğunuz TensorFlow veri kümesidir.\n",
        "\n",
        "**padded_batch:** Bu metod, veri kümesini belirli bir batch boyutunda pad'leyerek batch'lere ayırır.\n",
        "\n",
        "**BATCH_SIZE:** Her bir batch'in içereceği örnek sayısını belirler. Bu, genellikle bir değişken olarak tanımlanır ve burada sabit bir değeri temsil eder.\n",
        "\n",
        "**padded_shapes:** Bu, her bir batch'in şeklinin nasıl pad'leneceğini belirtir.\n",
        "\n",
        "**padded_shapes Açıklaması:**\n",
        "((None,), (())): Bu, veri kümesindeki her öğenin (tuple) pad'lenme şekillerini tanımlar.\n",
        "\n",
        "  *   (None,): Bu, dizinin ilk elemanının (örneğin, bir dizi veya cümle) dinamik uzunluğa sahip olduğunu belirtir. None değeri, TensorFlow'a bu boyutun dinamik olduğunu ve pad'lenmesi gerektiğini söyler.\n",
        "  *    ((),): Bu, dizinin ikinci elemanının sabit bir boyuta sahip olduğunu belirtir. Bu durumda, sabit bir skalar değer (örneğin, bir etiket veya sınıflandırma) pad'lenmesine gerek yoktur.\n",
        "\n"
      ],
      "metadata": {
        "id": "l0BdFV_udTfd"
      }
    },
    {
      "cell_type": "code",
      "source": [
        "BATCH_SIZE=32\n",
        "all_batched=all_dataset.padded_batch(BATCH_SIZE,padded_shapes=((None,),(())))"
      ],
      "metadata": {
        "id": "D__Fvo3pY7i0"
      },
      "execution_count": 21,
      "outputs": []
    },
    {
      "cell_type": "code",
      "source": [
        "next(iter(all_batched))"
      ],
      "metadata": {
        "colab": {
          "base_uri": "https://localhost:8080/"
        },
        "id": "BLO1zy6Nd_B8",
        "outputId": "c9b25da8-da2a-4d4f-c9f5-ae314b9bd2eb"
      },
      "execution_count": 22,
      "outputs": [
        {
          "output_type": "execute_result",
          "data": {
            "text/plain": [
              "(<tf.Tensor: shape=(32, 8), dtype=int32, numpy=\n",
              " array([[ 4283,  4658,  2666,  2611,  1012,  1012,  8840,  2140],\n",
              "        [ 2821,  2008,  1005,  1055, 18783,  3504,  2204,   999],\n",
              "        [10261,  2017,  1037, 10392,  5353,   999,  2562,  5629],\n",
              "        [ 8670,  2232,   999, 23042,  2000,  8915, 18886,  2015],\n",
              "        [ 8909,  2243,  1045,  3335,  3331,  2000,  2017,  7887],\n",
              "        [ 1045,  1005,  1049,  2012,  2147,  2035,  2894,   999],\n",
              "        [ 3374,  2053, 16324,  2005,  2017,  2059,  1012,  1012],\n",
              "        [ 2003,  9107,  2014,  2154,  2125,  1999,  1996,  3103],\n",
              "        [ 2145,  2125,  5305,  2514,  2066, 13433,  2080,   999],\n",
              "        [ 2821,  6203,   999,  2008,  1005,  1055,  2428, 28543],\n",
              "        [ 2725,  2026,  2381,  2607,  6198,  2129,  4569,  1012],\n",
              "        [ 2021,  2568,  2003,  2205,  2460,  2005,  2019,  2792],\n",
              "        [ 2123,  1005,  1056,  2057,  2035,  1012,  8840,  2140],\n",
              "        [ 2026,  2606,  3504,  2066,  2023,  2007,  2026, 21177],\n",
              "        [ 1045,  2215,  2000,  2175,  2000,  2474,  2007,  1012],\n",
              "        [ 1045,  2215,  2000,  2552,  2153,  1012,  1012,  1012],\n",
              "        [ 3067,  2006,  1996,  2060,  2192,  3849,  2000,  2022],\n",
              "        [ 3021,  8925,  2006, 10381, 18792,  2480,  1045,  2228],\n",
              "        [ 1045,  2215,  2000,  2444,  1999, 25212,  2226,  2226],\n",
              "        [ 3005,  1996,  2047,  7101,   999,  6289, 23644,   999],\n",
              "        [ 2017,  1005,  2128,  2200,  2200,  6160,  2305,   999],\n",
              "        [ 8840,  2140, 10474,  4892,  2003,  1996,  2832,   999],\n",
              "        [ 1045, 10749, 14904,  1045,  2347,  2102,  4011,  2000],\n",
              "        [ 2009,  1005,  1055,  2205,  2220,  2005,  2023,   999],\n",
              "        [ 3784,  6023,  1012, 14163,  3270,  3270,  3270, 23644],\n",
              "        [19387,  3582,  2115,  2540,  2481,  2102,  5993,  2062],\n",
              "        [20976,  2008,  1005,  1055,  1996,  2028,  1045,  3214],\n",
              "        [11320,  2615,  2017,  2748, 11320,  2615,  2017,  2053],\n",
              "        [ 8840,  2140,  1045,  2074,  2387,  2023,  4283, 17076],\n",
              "        [ 7459,  4757,  2015,  2893,  2489,  4933,  2013,  2147],\n",
              "        [ 3666,  1045,  2293,  1996,  2047,  4971, 18595,  2819],\n",
              "        [ 9609,  2633,   999, 10201,  2041,  1997,  2607,  1059]],\n",
              "       dtype=int32)>,\n",
              " <tf.Tensor: shape=(32,), dtype=int32, numpy=\n",
              " array([1, 1, 1, 0, 0, 0, 0, 1, 0, 0, 0, 0, 1, 1, 1, 0, 0, 1, 1, 1, 1, 1,\n",
              "        0, 1, 1, 1, 1, 0, 1, 1, 1, 1], dtype=int32)>)"
            ]
          },
          "metadata": {},
          "execution_count": 22
        }
      ]
    },
    {
      "cell_type": "code",
      "source": [
        "NB_BATCHES=math.ceil(len(sorted_all)/BATCH_SIZE)\n",
        "NB_BATCHES_TEST=NB_BATCHES//10\n",
        "all_batched.shuffle(NB_BATCHES) #datasetin büyük değilse batch sayısı kadar verebilirsin parametreyi\n",
        "test_dataset=all_batched.take(NB_BATCHES_TEST)# all batcehd içinden ilk NB_BATCHES_TEST adetini alır.\n",
        "train_dataset=all_batched.skip(NB_BATCHES_TEST)"
      ],
      "metadata": {
        "id": "9fymvhQmeDKy"
      },
      "execution_count": 23,
      "outputs": []
    },
    {
      "cell_type": "markdown",
      "source": [
        "# 3. Model Geliştirme"
      ],
      "metadata": {
        "id": "uwp0fluUgFUm"
      }
    },
    {
      "cell_type": "markdown",
      "source": [
        "**DCNN Sınıfı:**\n",
        "DCNN sınıfı, metin sınıflandırma için derin evrişimli sinir ağı (Deep Convolutional Neural Network) modelini tanımlar. Model, tf.keras.Model sınıfından türetilmiştir ve aşağıdaki yapı taşlarına sahiptir:\n",
        "\n",
        "**Parametreler:**\n",
        "\n",
        "- **vocab_size:**\n",
        "  - **Anlamı:** Kelime haznesinin büyüklüğü (vocabulary size).\n",
        "  - **Kullanımı:** Gömme katmanının (embedding layer) boyutunu belirlemek için kullanılır. Bu, modelin kaç farklı kelimeyi öğrenebileceğini gösterir.\n",
        "\n",
        "- **embedding_dim (varsayılan: 128):**\n",
        "  - **Anlamı:** Gömme (embedding) boyutu.\n",
        "  - **Kullanımı:** Her kelimenin kaç boyutlu bir vektörle temsil edileceğini belirler. Örneğin, 128 boyutlu bir gömme vektörü, her kelimenin 128 boyutlu bir uzayda temsil edildiği anlamına gelir.\n",
        "\n",
        "- **nb_filters (varsayılan: 50):**\n",
        "  - **Anlamı:** Her evrişim (convolution) katmanındaki filtre sayısı.\n",
        "  - **Kullanımı:** Evrişim katmanlarının derinliğini belirler. Daha fazla filtre, daha fazla özellik çıkarımı yapabilir.\n",
        "\n",
        "- **FFN_units (varsayılan: 512):**\n",
        "  - **Anlamı:** Tam bağlı katman (fully connected layer) birim sayısı.\n",
        "  - **Kullanımı:** Evrişim katmanlarından sonra gelen tam bağlı katmanların büyüklüğünü belirler.\n",
        "\n",
        "- **nb_classes (varsayılan: 2):**\n",
        "  - **Anlamı:** Sınıf sayısı (örneğin, ikili sınıflandırma için 2).\n",
        "  - **Kullanımı:** Çıkış katmanındaki nöron sayısını belirler. İkili sınıflandırma için genellikle 2, çok sınıflı sınıflandırma için sınıf sayısı kadar olur.\n",
        "\n",
        "- **dropout_rate (varsayılan: 0.1):**\n",
        "  - **Anlamı:** Dropout katmanındaki dropout oranı.\n",
        "  - **Kullanımı:** Dropout, overfitting'i önlemek için kullanılır. Bu oran, her eğitim adımında nöronların belirli bir yüzdesinin rastgele olarak devre dışı bırakılacağını belirtir.\n",
        "\n",
        "- **training (varsayılan: False):**\n",
        "  - **Anlamı:** Modelin eğitim aşamasında olup olmadığını belirtir.\n",
        "  - **Kullanımı:** Eğitim ve tahmin sırasında bazı katmanların davranışını kontrol eder (örneğin, dropout katmanı).\n",
        "\n",
        "- **name (varsayılan: \"dcnn\"):**\n",
        "  - **Anlamı:** Modelin adı.\n",
        "  - **Kullanımı:** Modelin adını belirlemek için kullanılır. Bu, modelin kaydedilmesi veya yeniden yüklenmesi sırasında kullanılabilir.\n",
        "\n",
        "**Yapı Taşları:**\n",
        "\n",
        "- **self.embedding = layers.Embedding(vocab_size, embedding_dim):**\n",
        "  - **Anlamı:** Gömme katmanı.\n",
        "  - **Kullanımı:** Girdi kelimelerini belirli boyutlarda gömme vektörlerine dönüştürür. Bu, kelimelerin sürekli vektörler olarak temsil edilmesini sağlar.\n",
        "\n",
        "- **self.bigram = layers.Conv1D(filters=nb_filters, kernel_size=2, padding=\"valid\", activation=\"relu\"):**\n",
        "  - **Anlamı:** 1D evrişim (Convolution) katmanı.\n",
        "  - **Kullanımı:** Tek boyutlu evrişim katmanı, metin verisi üzerinde yerel özellikleri çıkarmak için kullanılır. Bu katman, belirli bir penceredeki kelimeler arasındaki ilişkileri öğrenir.\n",
        "  - **Parametreler:**\n",
        "    - **filters=nb_filters:** Kullanılan filtre sayısını belirtir.\n",
        "    - **kernel_size=2:** Evrişim penceresinin boyutunu belirtir. Burada 2 kelimelik bir pencere kullanılır.\n",
        "    - **padding=\"valid\":** Veri pad'lemesinin nasıl yapılacağını belirtir. \"valid\" padding, pad'leme yapmadan sadece geçerli evrişimleri kullanır.\n",
        "    - **activation=\"relu\":** Aktivasyon fonksiyonu olarak ReLU kullanılır. ReLU, doğrusal olmayan bir aktivasyon fonksiyonudur ve modele doğrusal olmayanlık ekler.\n",
        "\n",
        "**Neden 1D Katman Kullanılır?**\n",
        "- **Metin Verisi:** Metin verisi, sıralı ve tek boyutlu bir veri olduğundan, 1D evrişim katmanları kullanılır. Her kelime bir boyut olarak temsil edilir.\n",
        "- **Yerel Bağlam:** 1D evrişim katmanları, metin içinde yerel bağlamı yakalamak için kullanılır. Bu, belirli pencerelerdeki kelimeler arasındaki ilişkileri öğrenir.\n",
        "- **Verimli Hesaplama:** 1D evrişimler, 2D evrişimlere göre daha az hesaplama gerektirir ve metin verileri için daha uygundur.\n"
      ],
      "metadata": {
        "id": "NVTKrfF_g27V"
      }
    },
    {
      "cell_type": "markdown",
      "source": [
        "**GlobalMaxPool1D Katmanı:**\n",
        "**GlobalMaxPool1D** katmanı, 1D evrişim katmanlarından çıkan özellik haritalarının maksimum değerlerini alır ve boyutlarını küçültür. Bu, önemli özelliklerin özetlenmesini sağlar. Parametre olarak genellikle özel bir ayar yapmaya gerek yoktur.\n",
        "\n",
        "**Dense (Tam Bağlı) Katmanı:**\n",
        "**Dense** katmanı, giriş özelliklerini ağırlıklarla çarpar ve bir aktivasyon fonksiyonu (bu örnekte ReLU) uygulayarak çıkış üretir. `units=FFN_units` bu katmandaki nöron sayısını belirtir. ReLU aktivasyon fonksiyonu doğrusal olmayanlık ekler ve modelin daha karmaşık ilişkileri öğrenmesine yardımcı olur.\n",
        "\n",
        "**Dropout Katmanı:**\n",
        "**Dropout** katmanı, eğitim sırasında rastgele olarak belirli bir yüzdede nöronu devre dışı bırakır (bu oran `dropout_rate` ile belirlenir). Bu, overfitting'i önlemeye yardımcı olur ve modelin genelleme yeteneğini artırır.\n",
        "\n",
        "**call Fonksiyonu:**\n",
        "\n",
        "- **Amaç:** `call` fonksiyonu, modelin öngörü ve eğitim sırasında nasıl işlem yapacağını tanımlar. Bu, modelin öngörülerini yapmak ve geri yayılım aşamasında hesaplamalar yapmak için kullanılır.\n",
        "\n",
        "- **`tf.concat([x_1, x_2, x_3], axis=-1)`:** Burada `x_1`, `x_2`, ve `x_3` değişkenleri, farklı evrişim katmanlarından çıkan ve ardından havuzlama (pooling) uygulanan özellik haritalarını temsil eder. `tf.concat` fonksiyonu, bu özellik haritalarını belirli bir eksende birleştirir. `axis=-1` kullanımı, birleştirmenin son eksende (yani özellik ekseninde) yapıldığını belirtir. Bu, çeşitli evrişim pencerelerinden gelen bilgilerin bir araya getirilmesini sağlar.\n",
        "\n",
        "- **Sonraki Adımlar:** Birleştirilen özellik haritaları, tam bağlı (dense) bir katmanda işlenir, dropout uygulanır ve son çıkış tahmini yapılır.\n"
      ],
      "metadata": {
        "id": "5Kno-R4uoPfV"
      }
    },
    {
      "cell_type": "markdown",
      "source": [
        "**Özellik Haritaları Nedir?**\n",
        "\n",
        "**Özellik haritaları** (feature maps), evrişimli sinir ağlarında (Convolutional Neural Networks - CNN) bulunan bir ara sonuç türüdür. Bu haritalar, evrişim katmanlarının girdi verisi üzerinde uyguladığı filtrelerin (kernels) sonucunda elde edilir.\n",
        "\n",
        "**Nasıl Çalışır?**\n",
        "\n",
        "1. **Evrişim Katmanı:**\n",
        "   - Bir evrişim katmanı, belirli bir pencerede (örneğin, 2 kelime, 3 kelime) veri üzerinde bir filtre uygular.\n",
        "   - Bu filtre, veri üzerinde kaydırılarak belirli özellikleri (örneğin, kelime çiftleri veya üçlüleri) öğrenir.\n",
        "\n",
        "2. **Özellik Haritası Oluşumu:**\n",
        "   - Filtreler, verinin her bölgesinde (pencere) uygulandığında, her bir bölge için bir değer üretilir.\n",
        "   - Bu değerler, bir matris (özellik haritası) oluşturur. Her bir matris elemanı, filtre uygulamasının sonucudur.\n",
        "\n",
        "   Örneğin, 2 kelimelik bir filtre uygulandığında, her iki kelimenin bir arada olduğu bölgelerdeki ilişkileri yakalayabiliriz. Filtre kaydırıldıkça, metin üzerindeki tüm bölgeleri kapsayan bir özellik haritası elde edilir.\n",
        "\n",
        "**Özellik Haritalarının Önemi**\n",
        "\n",
        "- **Yerel Özellikler:** Özellik haritaları, metindeki belirli pencerelerdeki yerel özellikleri öğrenir. Bu, metin verisindeki belirli desenleri veya ilişkileri yakalamak için kullanılır.\n",
        "- **Özelleştirilmiş Temsiller:** Farklı filtreler, farklı özellikleri öğrenir ve her biri farklı bir özellik haritası oluşturur. Örneğin, bir filtre kelime çiftlerini öğrenirken, başka bir filtre kelime üçlülerini öğrenebilir.\n",
        "\n",
        "**Havuzlama (Pooling) ile Özellik Haritalarını Kullanma**\n",
        "\n",
        "- **Pooling:** Havuzlama, özellik haritalarının boyutunu küçültür ve önemli bilgileri özetler. Örneğin, maksimum havuzlama (Max Pooling) yöntemi, özellik haritasındaki her pencerede en yüksek değeri seçer.\n",
        "- **Özetleme:** Bu özetlenmiş bilgiler, modelin daha ileri aşamalarında kullanılır. Havuzlama, önemli özelliklerin korunmasını sağlar ve gereksiz ayrıntıları azaltır.\n",
        "\n",
        "**Sonuç**\n",
        "\n",
        "- **Özellik Haritaları:** Evrişim katmanlarından elde edilen, verinin belirli bölgelerinde öğrenilen özelliklerin matrisleridir.\n",
        "- **Havuzlama:** Özellik haritalarının boyutunu küçültüp önemli bilgileri özetler.\n",
        "- **Dense Katmanlar:** Özellik haritalarını işleyerek nihai tahminler yapar.\n",
        "\n",
        "Özetle, özellik haritaları, evrişim katmanlarının veriyi nasıl öğrendiğini gösterir ve havuzlama ile bu bilgilerin önemli özetlerini elde ederiz. Bu özetler, modelin son tahminlerini yapmak için kullanılır.\n"
      ],
      "metadata": {
        "id": "TaTPhHS1o83x"
      }
    },
    {
      "cell_type": "markdown",
      "source": [
        "**Not:** Embedder veriyi sayısal bir forma dönüştüren bir araçtır, Transformer ise bu veriyi işleyip anlamlı sonuçlar çıkarmak için kullanılan bir model mimarisidir. Embedding genellikle Transformer gibi daha karmaşık modellerin bir parçası olarak kullanılır."
      ],
      "metadata": {
        "id": "ZOY7kLf2pW-9"
      }
    },
    {
      "cell_type": "code",
      "source": [
        "class DCNN(tf.keras.Model):\n",
        "  def __init__(self,\n",
        "               vocab_size,\n",
        "               emb_dim=128,\n",
        "               nb_filters=50,\n",
        "               FFN_units=512,\n",
        "               nb_classes=2,\n",
        "               dropout_rate=0.1,\n",
        "               training=False,\n",
        "               name=\"dcnn\"):\n",
        "    super(DCNN,self).__init__(name=name)\n",
        "    self.embedding=layers.Embedding(vocab_size,emb_dim)\n",
        "\n",
        "    self.biagram=layers.Conv1D(filters=nb_filters,\n",
        "                              kernel_size=2,\n",
        "                              padding=\"valid\",\n",
        "                              activation=\"relu\")\n",
        "\n",
        "\n",
        "    self.trigram=layers.Conv1D(filters=nb_filters,\n",
        "                              kernel_size=3,\n",
        "                              padding=\"valid\",\n",
        "                              activation=\"relu\")\n",
        "\n",
        "\n",
        "    self.fourtgram=layers.Conv1D(filters=nb_filters,\n",
        "                              kernel_size=4,\n",
        "                              padding=\"valid\",\n",
        "                              activation=\"relu\")\n",
        "\n",
        "    self.pool=layers.GlobalMaxPool1D()\n",
        "\n",
        "    self.dense_1=layers.Dense(units=FFN_units,\n",
        "                              activation=\"relu\")\n",
        "\n",
        "    self.dropout=layers.Dropout(rate=dropout_rate)\n",
        "\n",
        "    if nb_classes==2:\n",
        "      self.last_dense=layers.Dense(units=1,\n",
        "                                   activation=\"sigmoid\")\n",
        "    else:\n",
        "      self.last_dense=layers.Dense(units=nb_classes,\n",
        "                                   activation=\"softmax\")\n",
        "\n",
        "  def call(self,inputs,training):\n",
        "    x = self.embedding(inputs)\n",
        "\n",
        "    x_1=self.biagram(x)\n",
        "    x_1=self.pool(x_1)\n",
        "\n",
        "    x_2=self.trigram(x)\n",
        "    x_2=self.pool(x_2)\n",
        "\n",
        "    x_3=self.trigram(x)\n",
        "    x_3=self.pool(x_3) # (batc_Size,nb_filters)\n",
        "\n",
        "    merged=tf.concat([x_1,x_2,x_3],axis=-1) #(batch_size, 3*nb_filters)\n",
        "    merged=self.dense_1(merged)\n",
        "    merged=self.dropout(merged, training)\n",
        "    output=self.last_dense(merged)\n",
        "\n",
        "    return output"
      ],
      "metadata": {
        "id": "ZhIf9MDafuJR"
      },
      "execution_count": 44,
      "outputs": []
    },
    {
      "cell_type": "markdown",
      "source": [
        "# 4.Model Building"
      ],
      "metadata": {
        "id": "Cjb48uHZs0sR"
      }
    },
    {
      "cell_type": "code",
      "source": [
        "VOCAB_SIZE=len(tokenizer.vocab)\n",
        "EMB_DIM=200\n",
        "NB_FILTERS=100\n",
        "FFN_UNITS=256\n",
        "NB_CLASSES=2\n",
        "DROPOUT_TATE=0.2\n",
        "NB_EPOCHS=5"
      ],
      "metadata": {
        "id": "A7z02Kp6majc"
      },
      "execution_count": 45,
      "outputs": []
    },
    {
      "cell_type": "code",
      "source": [
        "Dcnn=DCNN(vocab_size=VOCAB_SIZE,\n",
        "          emb_dim=EMB_DIM,\n",
        "          nb_filters=NB_FILTERS,\n",
        "          FFN_units=FFN_UNITS,\n",
        "          nb_classes=NB_CLASSES,\n",
        "          dropout_rate=DROPOUT_TATE)"
      ],
      "metadata": {
        "id": "7rgAQW7jtuYU"
      },
      "execution_count": 46,
      "outputs": []
    },
    {
      "cell_type": "code",
      "source": [
        "if NB_CLASSES==2:\n",
        "  Dcnn.compile(loss=\"binary_crossentropy\", #2 CLASS VAR O YÜZDEN\n",
        "              optimizer=\"adam\",\n",
        "              metrics=[\"accuracy\"])\n",
        "else:\n",
        "  Dcnn.compile(loss=\"sparse_categorical_crossentropy\",\n",
        "              optimizer=\"adam\",\n",
        "              metrics=[\"sparse_categorical_accuracy\"])"
      ],
      "metadata": {
        "id": "33Us56xhuo59"
      },
      "execution_count": 47,
      "outputs": []
    },
    {
      "cell_type": "code",
      "source": [
        "#ağırlıkları korumak için checkpoint kullan.\n",
        "\n",
        "checkpoint_path=\"/content/drive/MyDrive/BERT/ckpt_bert_tok\"\n",
        "\n",
        "ckpt= tf.train.Checkpoint(Dcnn=Dcnn)\n",
        "\n",
        "ckpt_manager=tf.train.CheckpointManager(ckpt,checkpoint_path,max_to_keep=1) #5  DE YAPABİLİRSİN\n",
        "\n",
        "if ckpt_manager.latest_checkpoint:\n",
        "  ckpt.restore(ckpt_manager.latest_checkpoint)\n",
        "  print(\"Lastest Checkpoint Restored from {}\".format(ckpt_manager.latest_checkpoint))"
      ],
      "metadata": {
        "id": "EpimSNRhwEEq"
      },
      "execution_count": 48,
      "outputs": []
    },
    {
      "cell_type": "code",
      "source": [
        "class MyCustomCallback(tf.keras.callbacks.Callback):\n",
        "  #her epokta kaydetmeye yarıyor?\n",
        "  def on_epoch_end(self, epoch, logs=None):\n",
        "    ckpt_manager.save()\n",
        "    print(\"Saving checkpoint for epoch {} at {}\".format(epoch+1,\n",
        "                                                        checkpoint_path))"
      ],
      "metadata": {
        "id": "lHQU83Y-xp2m"
      },
      "execution_count": 49,
      "outputs": []
    },
    {
      "cell_type": "code",
      "source": [
        "Dcnn.fit(train_dataset,\n",
        "        epochs=NB_EPOCHS,\n",
        "        callbacks=[MyCustomCallback()])"
      ],
      "metadata": {
        "colab": {
          "base_uri": "https://localhost:8080/"
        },
        "id": "uBa6tFlbzI-f",
        "outputId": "4dd5ec6a-928a-47c7-cbdf-857dd9a324b0"
      },
      "execution_count": 50,
      "outputs": [
        {
          "output_type": "stream",
          "name": "stdout",
          "text": [
            "Epoch 1/5\n",
            "  37193/Unknown - 479s 12ms/step - loss: 0.4327 - accuracy: 0.8001Saving checkpoint for epoch 1 at /content/drive/MyDrive/BERT/ckpt_bert_tok\n",
            "37193/37193 [==============================] - 479s 12ms/step - loss: 0.4327 - accuracy: 0.8001\n",
            "Epoch 2/5\n",
            "37192/37193 [============================>.] - ETA: 0s - loss: 0.3873 - accuracy: 0.8269Saving checkpoint for epoch 2 at /content/drive/MyDrive/BERT/ckpt_bert_tok\n",
            "37193/37193 [==============================] - 403s 10ms/step - loss: 0.3873 - accuracy: 0.8269\n",
            "Epoch 3/5\n",
            "37191/37193 [============================>.] - ETA: 0s - loss: 0.3512 - accuracy: 0.8462Saving checkpoint for epoch 3 at /content/drive/MyDrive/BERT/ckpt_bert_tok\n",
            "37193/37193 [==============================] - 399s 10ms/step - loss: 0.3512 - accuracy: 0.8462\n",
            "Epoch 4/5\n",
            "37193/37193 [==============================] - ETA: 0s - loss: 0.3154 - accuracy: 0.8645Saving checkpoint for epoch 4 at /content/drive/MyDrive/BERT/ckpt_bert_tok\n",
            "37193/37193 [==============================] - 401s 10ms/step - loss: 0.3154 - accuracy: 0.8645\n",
            "Epoch 5/5\n",
            "37193/37193 [==============================] - ETA: 0s - loss: 0.2819 - accuracy: 0.8799Saving checkpoint for epoch 5 at /content/drive/MyDrive/BERT/ckpt_bert_tok\n",
            "37193/37193 [==============================] - 402s 10ms/step - loss: 0.2819 - accuracy: 0.8799\n"
          ]
        },
        {
          "output_type": "execute_result",
          "data": {
            "text/plain": [
              "<keras.src.callbacks.History at 0x7b026c8e9840>"
            ]
          },
          "metadata": {},
          "execution_count": 50
        }
      ]
    },
    {
      "cell_type": "markdown",
      "source": [
        "# 5. Evaluation"
      ],
      "metadata": {
        "id": "pUR370xF8NXF"
      }
    },
    {
      "cell_type": "code",
      "source": [
        "result=Dcnn.evaluate(test_dataset)\n",
        "print(result)"
      ],
      "metadata": {
        "colab": {
          "base_uri": "https://localhost:8080/"
        },
        "id": "caCEzik9zdJt",
        "outputId": "23b8e43e-78f8-4c44-850c-947fd713c2de"
      },
      "execution_count": 51,
      "outputs": [
        {
          "output_type": "stream",
          "name": "stdout",
          "text": [
            "4132/4132 [==============================] - 36s 9ms/step - loss: 0.4212 - accuracy: 0.8293\n",
            "[0.4212311804294586, 0.82933509349823]\n"
          ]
        }
      ]
    },
    {
      "cell_type": "code",
      "source": [
        "def get_prediction(sentence):\n",
        "  tokens=encode_sentence(sentence)\n",
        "  inputs=tf.expand_dims(tokens,0)\n",
        "  output=Dcnn(inputs,training=False)\n",
        "  sentiment=math.floor(output*2)\n",
        "  if sentiment == 0:\n",
        "        print(f\"Output of the model:{output}. Predicted sentiment negative.\")\n",
        "  else:\n",
        "        print(f\"Output of the model:{output}. Predicted sentiment positive.\")\n",
        "\n"
      ],
      "metadata": {
        "id": "NfLzZufb8ZzO"
      },
      "execution_count": 59,
      "outputs": []
    },
    {
      "cell_type": "code",
      "source": [
        "get_prediction(\"I'd rather not do that again.\")"
      ],
      "metadata": {
        "colab": {
          "base_uri": "https://localhost:8080/"
        },
        "id": "4sLZ7CoE-tKe",
        "outputId": "555e7189-12f4-4c6d-89f5-8abe17001dba"
      },
      "execution_count": 53,
      "outputs": [
        {
          "output_type": "stream",
          "name": "stdout",
          "text": [
            "Output of the model:[[0.22451645]]. Predicted sentiment negative.\n"
          ]
        }
      ]
    },
    {
      "cell_type": "code",
      "source": [
        "get_prediction(\"This movie was pretty interesting.\")"
      ],
      "metadata": {
        "colab": {
          "base_uri": "https://localhost:8080/"
        },
        "id": "thj73IQh-w9h",
        "outputId": "d3ea28b3-678d-4b22-d137-37509ebc3512"
      },
      "execution_count": 54,
      "outputs": [
        {
          "output_type": "stream",
          "name": "stdout",
          "text": [
            "Output of the model:[[0.96834356]]. Predicted sentiment positive.\n"
          ]
        }
      ]
    },
    {
      "cell_type": "code",
      "source": [
        "get_prediction(\"I am falling love to this car.\")"
      ],
      "metadata": {
        "colab": {
          "base_uri": "https://localhost:8080/"
        },
        "id": "m-LbQfIh-31U",
        "outputId": "c6efc03c-1158-4e1d-eedf-7f06cddd7076"
      },
      "execution_count": 55,
      "outputs": [
        {
          "output_type": "stream",
          "name": "stdout",
          "text": [
            "Output of the model:[[0.88105756]]. Predicted sentiment positive.\n"
          ]
        }
      ]
    },
    {
      "cell_type": "code",
      "source": [
        "get_prediction(\"I dont know sometimes ı am hopeless.\")"
      ],
      "metadata": {
        "colab": {
          "base_uri": "https://localhost:8080/"
        },
        "id": "mm8x4J_e-7mL",
        "outputId": "e41cd4fe-c2c5-488c-9139-733aaaaec2cd"
      },
      "execution_count": 61,
      "outputs": [
        {
          "output_type": "stream",
          "name": "stdout",
          "text": [
            "Output of the model:[[0.15894072]]. Predicted sentiment negative.\n"
          ]
        }
      ]
    },
    {
      "cell_type": "code",
      "source": [],
      "metadata": {
        "id": "GuUjVZU6_Mcn"
      },
      "execution_count": null,
      "outputs": []
    }
  ]
}